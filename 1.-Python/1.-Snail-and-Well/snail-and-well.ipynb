{
 "cells": [
  {
   "cell_type": "markdown",
   "metadata": {},
   "source": [
    "<img src=\"https://bit.ly/2VnXWr2\" width=\"100\" align=\"left\">"
   ]
  },
  {
   "cell_type": "markdown",
   "metadata": {},
   "source": [
    "# The Snail and the Well\n",
    "\n",
    "A snail falls at the bottom of a 125 cm well. Each day the snail rises 30 cm. But at night, while sleeping, slides 20 cm because the walls are wet. How many days does it take for the snail to escape the well?\n",
    "\n",
    "**Hint**: The snail gets out of the well when it surpasses the 125cm of height.\n",
    "\n",
    "## Tools\n",
    "\n",
    "1. Loop: **while**\n",
    "2. Conditional statements: **if-else**\n",
    "3. Function: **print()**\n",
    "\n",
    "## Tasks\n",
    "\n",
    "#### 1. Assign the challenge data to variables with representative names: `well_height`, `daily_distance`, `nightly_distance` and `snail_position`."
   ]
  },
  {
   "cell_type": "code",
   "execution_count": null,
   "metadata": {},
   "outputs": [],
   "source": [
    "well_height = 125, daily_distance=30, nightly_distance=20, snail_position=0"
   ]
  },
  {
   "cell_type": "markdown",
   "metadata": {},
   "source": [
    "#### 2. Create a variable `days` to keep count of the days that pass until the snail escapes the well. "
   ]
  },
  {
   "cell_type": "code",
   "execution_count": null,
   "metadata": {},
   "outputs": [],
   "source": [
    "days = 0"
   ]
  },
  {
   "cell_type": "markdown",
   "metadata": {},
   "source": [
    "#### 3. Find the solution to the challenge using the variables defined above. "
   ]
  },
  {
   "cell_type": "code",
   "execution_count": 7,
   "metadata": {},
   "outputs": [],
   "source": [
    "days = 0\n",
    "snail_position=0\n",
    "well_height = 125\n",
    "daily_distance = 30\n",
    "nightly_distance = 20\n",
    "while snail_position < well_height:\n",
    "    days = days+1\n",
    "    snail_position += daily_distance\n",
    "    if snail_position > well_height:\n",
    "        break\n",
    "    else:\n",
    "        snail_position -= nightly_distance"
   ]
  },
  {
   "cell_type": "markdown",
   "metadata": {},
   "source": [
    "#### 4. Print the solution."
   ]
  },
  {
   "cell_type": "code",
   "execution_count": 8,
   "metadata": {},
   "outputs": [
    {
     "name": "stdout",
     "output_type": "stream",
     "text": [
      "It takes 11 days for the snail to escape\n"
     ]
    }
   ],
   "source": [
    "print(\"It takes\", days, \"days for the snail to escape\")"
   ]
  },
  {
   "cell_type": "markdown",
   "metadata": {},
   "source": [
    "## Bonus\n",
    "The distance traveled by the snail each day is now defined by a list.\n",
    "```\n",
    "advance_cm = [30, 21, 33, 77, 44, 45, 23, 45, 12, 34, 55]\n",
    "```\n",
    "On the first day, the snail rises 30cm but during the night it slides 20cm. On the second day, the snail rises 21cm but during the night it slides 20cm, and so on. \n",
    "\n",
    "#### 1. How many days does it take for the snail to escape the well?\n",
    "Follow the same guidelines as in the previous challenge.\n",
    "\n",
    "**Hint**: Remember that the snail gets out of the well when it surpasses the 125cm of height."
   ]
  },
  {
   "cell_type": "code",
   "execution_count": 62,
   "metadata": {},
   "outputs": [
    {
     "name": "stdout",
     "output_type": "stream",
     "text": [
      "It takes 6 days for the snail to escape\n"
     ]
    }
   ],
   "source": [
    "days = 0\n",
    "snail_position=0\n",
    "well_height = 125\n",
    "advance_cm = [30, 21, 33, 77, 44, 45, 23, 45, 12, 34, 55]\n",
    "advance_day_night = [30]\n",
    "nightly_distance = 20\n",
    "overflow=0\n",
    "while snail_position < well_height:\n",
    "    snail_position += advance_cm[days]   \n",
    "    days = days+1\n",
    "    if snail_position > well_height:\n",
    "        overflow=snail_position-well_height\n",
    "        break\n",
    "    else:\n",
    "        snail_position -= nightly_distance\n",
    "\n",
    "advance_day_night[:]=advance_cm[:days]\n",
    "advance_day_night[days-1]=advance_cm[days-1]-overflow\n",
    "k=0\n",
    "while k < days-1:\n",
    "    advance_day_night[k] = advance_day_night[k]-nightly_distance\n",
    "    k +=1        \n",
    "        \n",
    "print(\"It takes\", days, \"days for the snail to escape\")\n",
    "#print(advance_cm[0:days])\n",
    "#print(advance_day_night[:])"
   ]
  },
  {
   "cell_type": "markdown",
   "metadata": {},
   "source": [
    "#### 2. What is its maximum displacement in one day? And its minimum? Calculate the displacement using only the travel distance of the days used to get out of the well. \n",
    "**Hint**: Remember that displacement means the total distance risen taking into account that the snail slides at night.  "
   ]
  },
  {
   "cell_type": "code",
   "execution_count": 57,
   "metadata": {},
   "outputs": [
    {
     "name": "stdout",
     "output_type": "stream",
     "text": [
      "The maximum displacement in one day is 57\n",
      "the minimal displacement in one day is 1\n"
     ]
    }
   ],
   "source": [
    "days=6\n",
    "max_displacement = advance_day_night[0]\n",
    "min_displacement = advance_day_night[0]\n",
    "i=0\n",
    "while i < days:\n",
    "    displacement = advance_day_night[i]\n",
    "    if displacement > max_displacement:\n",
    "        max_displacement = displacement\n",
    "    if displacement < min_displacement:\n",
    "        min_displacement = displacement\n",
    "    i += 1\n",
    "\n",
    "print(\"The maximum displacement in one day is\", max_displacement)\n",
    "print(\"the minimal displacement in one day is\", min_displacement)"
   ]
  },
  {
   "cell_type": "markdown",
   "metadata": {},
   "source": [
    "#### 3. What is its average progress? Take into account the snail slides at night."
   ]
  },
  {
   "cell_type": "code",
   "execution_count": 58,
   "metadata": {},
   "outputs": [
    {
     "name": "stdout",
     "output_type": "stream",
     "text": [
      "The average progress is 20.833333333333332\n"
     ]
    }
   ],
   "source": [
    "avg_displacement = well_height/days\n",
    "print(\"The average progress is\", avg_displacement)"
   ]
  },
  {
   "cell_type": "markdown",
   "metadata": {},
   "source": [
    "#### 4. What is the standard deviation of its displacement? Take into account the snail slides at night."
   ]
  },
  {
   "cell_type": "code",
   "execution_count": 60,
   "metadata": {},
   "outputs": [
    {
     "name": "stdout",
     "output_type": "stream",
     "text": [
      "The standard deviation is 17.752151669273474\n"
     ]
    }
   ],
   "source": [
    "j=0\n",
    "variance=0\n",
    "while j <= days-1:\n",
    "    variance +=((advance_day_night[j]-avg_displacement)**2)/days\n",
    "    j += 1\n",
    "\n",
    "std_deviation = variance**0.5\n",
    "print(\"The standard deviation is\", std_deviation)"
   ]
  },
  {
   "cell_type": "code",
   "execution_count": null,
   "metadata": {},
   "outputs": [],
   "source": []
  }
 ],
 "metadata": {
  "kernelspec": {
   "display_name": "Python 3",
   "language": "python",
   "name": "python3"
  },
  "language_info": {
   "codemirror_mode": {
    "name": "ipython",
    "version": 3
   },
   "file_extension": ".py",
   "mimetype": "text/x-python",
   "name": "python",
   "nbconvert_exporter": "python",
   "pygments_lexer": "ipython3",
   "version": "3.8.5"
  }
 },
 "nbformat": 4,
 "nbformat_minor": 2
}
